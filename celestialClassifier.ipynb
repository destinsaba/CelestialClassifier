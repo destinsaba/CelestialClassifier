{
 "cells": [
  {
   "cell_type": "markdown",
   "metadata": {},
   "source": [
    "**ENSF 611 - Final Project**  \n",
    "**Team Members:**  \n",
    "Destin Saba: 30249241  \n",
    "Nathan de Oliveira: ####  \n",
    "Rana El Sadig: ####  \n"
   ]
  },
  {
   "cell_type": "markdown",
   "metadata": {},
   "source": [
    "# Introduction\n",
    "\n",
    "In this machine learning project for ENSF 611, we will analyze the Stellar Classification Dataset from the Sloan Digital Sky Survey (SDSS). This dataset, available on Kaggle (https://www.kaggle.com/datasets/fedesoriano/stellar-classification-dataset-sdss17/data), contains information about various celestial objects, including stars, galaxies, and quasars. Our goal is to build a model that can accurately classify these objects based on their features. This project will involve data preprocessing, exploratory data analysis, model training, and evaluation."
   ]
  }
 ],
 "metadata": {
  "language_info": {
   "name": "python"
  }
 },
 "nbformat": 4,
 "nbformat_minor": 2
}
